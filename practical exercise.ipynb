{
 "cells": [
  {
   "cell_type": "code",
   "execution_count": 37,
   "id": "1fab3535-2c5d-46d3-8ebc-c06f9caa1803",
   "metadata": {},
   "outputs": [
    {
     "name": "stdout",
     "output_type": "stream",
     "text": [
      "Original data dataframe:\n",
      "     a    b\n",
      "0  1.0  5.0\n",
      "1  2.0  6.0\n",
      "2  NaN  7.0\n",
      "3  4.0  NaN\n",
      "\n",
      "\n",
      "\n",
      "DataFrame after dropping rows with NaN values:\n",
      "     a    b\n",
      "0  1.0  5.0\n",
      "1  2.0  6.0\n"
     ]
    }
   ],
   "source": [
    "# - 1. Write a program to drop rows with at least one Nan value (Null value)\n",
    "\n",
    "import pandas as pd\n",
    "data = {\n",
    "    'a': [1,2,None,4],\n",
    "    'b': [5,6,7,None]\n",
    "}\n",
    "df = pd.DataFrame(data)\n",
    "\n",
    "df_cleaned = df.dropna()\n",
    "print(\"Original data dataframe:\")\n",
    "print(df)\n",
    "print('\\n')\n",
    "print(\"\\nDataFrame after dropping rows with NaN values:\")\n",
    "print(df_cleaned)\n"
   ]
  },
  {
   "cell_type": "code",
   "execution_count": null,
   "id": "8e67a43d-d136-404b-bfb3-46a73d4aff5a",
   "metadata": {},
   "outputs": [],
   "source": []
  }
 ],
 "metadata": {
  "kernelspec": {
   "display_name": "Python 3 (ipykernel)",
   "language": "python",
   "name": "python3"
  },
  "language_info": {
   "codemirror_mode": {
    "name": "ipython",
    "version": 3
   },
   "file_extension": ".py",
   "mimetype": "text/x-python",
   "name": "python",
   "nbconvert_exporter": "python",
   "pygments_lexer": "ipython3",
   "version": "3.12.4"
  }
 },
 "nbformat": 4,
 "nbformat_minor": 5
}
